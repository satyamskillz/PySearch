{
 "cells": [
  {
   "cell_type": "code",
   "execution_count": 1,
   "metadata": {},
   "outputs": [],
   "source": [
    "import imutils\n",
    "import cv2"
   ]
  },
  {
   "cell_type": "code",
   "execution_count": 7,
   "metadata": {},
   "outputs": [
    {
     "name": "stdout",
     "output_type": "stream",
     "text": [
      "(322, 600, 3)\n"
     ]
    },
    {
     "data": {
      "text/plain": [
       "-1"
      ]
     },
     "execution_count": 7,
     "metadata": {},
     "output_type": "execute_result"
    }
   ],
   "source": [
    "image=cv2.imread(\"jp.png\")\n",
    "cv2.imshow(\"preview\",image)\n",
    "print(image.shape)\n",
    "cv2.waitKey(0)"
   ]
  },
  {
   "cell_type": "code",
   "execution_count": 6,
   "metadata": {},
   "outputs": [
    {
     "name": "stdout",
     "output_type": "stream",
     "text": [
      "R=41, G=49, B=37\n"
     ]
    }
   ],
   "source": [
    "#acessing the value of pixel at particular location\n",
    "(B,G,R)=image[100,50]\n",
    "print(\"R={}, G={}, B={}\".format(R, G, B))"
   ]
  },
  {
   "cell_type": "code",
   "execution_count": 14,
   "metadata": {},
   "outputs": [
    {
     "data": {
      "text/plain": [
       "-1"
      ]
     },
     "execution_count": 14,
     "metadata": {},
     "output_type": "execute_result"
    }
   ],
   "source": [
    "#Extracting region of interest(roi)\n",
    "#60:160 is height\n",
    "#320:420 is width\n",
    "roi=image[60:160,320:420]\n",
    "cv2.imshow(\"roi\",roi)\n",
    "cv2.waitKey(0)"
   ]
  },
  {
   "cell_type": "code",
   "execution_count": 18,
   "metadata": {},
   "outputs": [
    {
     "name": "stdout",
     "output_type": "stream",
     "text": [
      "(200, 200, 3)\n"
     ]
    },
    {
     "data": {
      "text/plain": [
       "-1"
      ]
     },
     "execution_count": 18,
     "metadata": {},
     "output_type": "execute_result"
    }
   ],
   "source": [
    "#resizing image\n",
    "resized=cv2.resize(image,(200,200))\n",
    "cv2.imshow(\"resize image\",resized)\n",
    "print(resized.shape)\n",
    "#shape of image also changed\n",
    "cv2.waitKey(0)"
   ]
  },
  {
   "cell_type": "code",
   "execution_count": 19,
   "metadata": {},
   "outputs": [
    {
     "name": "stdout",
     "output_type": "stream",
     "text": [
      "0.5366666666666666\n"
     ]
    }
   ],
   "source": [
    "#calcutating aspect ratio of original image\n",
    "(h,w,d)=image.shape\n",
    "aspect_ratio=h/w\n",
    "print(aspect_ratio)"
   ]
  },
  {
   "cell_type": "code",
   "execution_count": 27,
   "metadata": {},
   "outputs": [
    {
     "data": {
      "text/plain": [
       "-1"
      ]
     },
     "execution_count": 27,
     "metadata": {},
     "output_type": "execute_result"
    }
   ],
   "source": [
    "#resizing image according to aspect ratio\n",
    "newResized=cv2.resize(image,(200,int(200*aspect_ratio)))\n",
    "cv2.imshow(\"aspect ratio resized\",newResized)\n",
    "cv2.waitKey(0)"
   ]
  },
  {
   "cell_type": "code",
   "execution_count": 33,
   "metadata": {},
   "outputs": [
    {
     "data": {
      "text/plain": [
       "-1"
      ]
     },
     "execution_count": 33,
     "metadata": {},
     "output_type": "execute_result"
    }
   ],
   "source": [
    "#automatic aspect ratio resizing using imutils\n",
    "autoResized=imutils.resize(image,width=200)\n",
    "cv2.imshow(\"auto resizing\",autoResized)\n",
    "cv2.waitKey(0)"
   ]
  },
  {
   "cell_type": "code",
   "execution_count": 44,
   "metadata": {},
   "outputs": [
    {
     "name": "stdout",
     "output_type": "stream",
     "text": [
      "(161, 300)\n"
     ]
    },
    {
     "data": {
      "text/plain": [
       "-1"
      ]
     },
     "execution_count": 44,
     "metadata": {},
     "output_type": "execute_result"
    }
   ],
   "source": [
    "#rotating image manually\n",
    "#finding center of image\n",
    "center=(h//2,w//2)\n",
    "print(center)\n",
    "\n",
    "M=cv2.getRotationMatrix2D(center,-45,1.0)\n",
    "#-45 represent degree and 1.0 represent zoom\n",
    "rotated=cv2.warpAffine(image,M,(w,h))\n",
    "cv2.imshow(\"rotated\",rotated)\n",
    "cv2.waitKey(0)"
   ]
  },
  {
   "cell_type": "code",
   "execution_count": 46,
   "metadata": {},
   "outputs": [
    {
     "data": {
      "text/plain": [
       "-1"
      ]
     },
     "execution_count": 46,
     "metadata": {},
     "output_type": "execute_result"
    }
   ],
   "source": [
    "#rotation using imutils\n",
    "newRotation=imutils.rotate(image,angle=-45,scale=0.5)\n",
    "cv2.imshow(\"auto rotation\",newRotation)\n",
    "cv2.waitKey(0)"
   ]
  },
  {
   "cell_type": "code",
   "execution_count": 47,
   "metadata": {},
   "outputs": [
    {
     "data": {
      "text/plain": [
       "-1"
      ]
     },
     "execution_count": 47,
     "metadata": {},
     "output_type": "execute_result"
    }
   ],
   "source": [
    "#rotation without cutting \n",
    "cutRotation=imutils.rotate_bound(image,-45)\n",
    "cv2.imshow(\"nocutt\",cutRotation)\n",
    "cv2.waitKey(0)"
   ]
  },
  {
   "cell_type": "code",
   "execution_count": 53,
   "metadata": {},
   "outputs": [
    {
     "data": {
      "text/plain": [
       "-1"
      ]
     },
     "execution_count": 53,
     "metadata": {},
     "output_type": "execute_result"
    }
   ],
   "source": [
    "#blurred image\n",
    "blurred=cv2.GaussianBlur(image,(11,11),0)\n",
    "cv2.imshow(\"blurred\",blurred)\n",
    "cv2.waitKey(0)"
   ]
  },
  {
   "cell_type": "code",
   "execution_count": 57,
   "metadata": {},
   "outputs": [
    {
     "data": {
      "text/plain": [
       "-1"
      ]
     },
     "execution_count": 57,
     "metadata": {},
     "output_type": "execute_result"
    }
   ],
   "source": [
    "# drawing on image\n",
    "output=image.copy()\n",
    "cv2.rectangle(output,(320,60),(420,160),(0,0,255),2)\n",
    "cv2.circle(output,(320,60),10,(255,0,0),-1)#filled circle\n",
    "cv2.circle(output,(420,160),20,(0,255,0),2)#empty circle\n",
    "cv2.imshow(\"draw on image\",output)\n",
    "cv2.waitKey(0)"
   ]
  },
  {
   "cell_type": "code",
   "execution_count": 59,
   "metadata": {},
   "outputs": [
    {
     "data": {
      "text/plain": [
       "-1"
      ]
     },
     "execution_count": 59,
     "metadata": {},
     "output_type": "execute_result"
    }
   ],
   "source": [
    "#drawing line on image\n",
    "output=image.copy()\n",
    "cv2.line(output,(0,320),(60,20),(0,0,255),2)\n",
    "cv2.line(output,(60,20),(400,200),(0,255,0),5)\n",
    "cv2.imshow(\"lined image\",output)\n",
    "cv2.waitKey(0)"
   ]
  },
  {
   "cell_type": "code",
   "execution_count": 63,
   "metadata": {},
   "outputs": [
    {
     "data": {
      "text/plain": [
       "-1"
      ]
     },
     "execution_count": 63,
     "metadata": {},
     "output_type": "execute_result"
    }
   ],
   "source": [
    "# draw green text on the image\n",
    "output = image.copy()\n",
    "cv2.putText(output, \"OpenCV + Jurassic Park!!!\", (10, 25), \n",
    "\tcv2.FONT_HERSHEY_SIMPLEX, 0.5, (0, 255, 0), 1)\n",
    "cv2.imshow(\"Text\", output)\n",
    "cv2.waitKey(0)"
   ]
  },
  {
   "cell_type": "code",
   "execution_count": 89,
   "metadata": {},
   "outputs": [
    {
     "data": {
      "text/plain": [
       "-1"
      ]
     },
     "execution_count": 89,
     "metadata": {},
     "output_type": "execute_result"
    }
   ],
   "source": [
    "#coverting image to gray\n",
    "image=cv2.imread(\"blocks.png\")\n",
    "cv2.imshow(\"original image\",image)\n",
    "cv2.waitKey(0)\n",
    "grayImage=cv2.cvtColor(image,cv2.COLOR_BGR2GRAY)\n",
    "cv2.imshow(\"gray image\",grayImage)\n",
    "cv2.waitKey(0)"
   ]
  },
  {
   "cell_type": "code",
   "execution_count": 70,
   "metadata": {},
   "outputs": [
    {
     "data": {
      "text/plain": [
       "-1"
      ]
     },
     "execution_count": 70,
     "metadata": {},
     "output_type": "execute_result"
    }
   ],
   "source": [
    "#edge on gray image\n",
    "image1=cv2.imread(\"blocks.png\")\n",
    "image2=cv2.imread(\"jp.png\")\n",
    "grayImage1=cv2.cvtColor(image1,cv2.COLOR_BGR2GRAY)\n",
    "grayImage2=cv2.cvtColor(image2,cv2.COLOR_BGR2GRAY)\n",
    "edged1 = cv2.Canny(grayImage1, 30, 150)\n",
    "edged2 = cv2.Canny(grayImage2, 100, 200)\n",
    "#aerture_size is default value as 3\n",
    "cv2.imshow(\"block image\",edged1)\n",
    "cv2.waitKey(0)\n",
    "cv2.imshow(\"human image\",edged2)\n",
    "cv2.waitKey(0)"
   ]
  },
  {
   "cell_type": "code",
   "execution_count": 71,
   "metadata": {},
   "outputs": [
    {
     "data": {
      "text/plain": [
       "-1"
      ]
     },
     "execution_count": 71,
     "metadata": {},
     "output_type": "execute_result"
    }
   ],
   "source": [
    "#edge on color image\n",
    "image1=cv2.imread(\"blocks.png\")\n",
    "image2=cv2.imread(\"jp.png\")\n",
    "edged1 = cv2.Canny(image1, 30, 150)\n",
    "edged2 = cv2.Canny(image2, 100, 200)\n",
    "#aerture_size is default value as 3\n",
    "cv2.imshow(\"block image\",edged1)\n",
    "cv2.waitKey(0)\n",
    "cv2.imshow(\"human image\",edged2)\n",
    "cv2.waitKey(0)"
   ]
  },
  {
   "cell_type": "code",
   "execution_count": 77,
   "metadata": {},
   "outputs": [
    {
     "data": {
      "text/plain": [
       "-1"
      ]
     },
     "execution_count": 77,
     "metadata": {},
     "output_type": "execute_result"
    }
   ],
   "source": [
    "#thresholding on gray image\n",
    "thresh1=cv2.threshold(grayImage1,225,255,cv2.THRESH_BINARY_INV)[1]\n",
    "thresh2=cv2.threshold(grayImage2,200,255,cv2.THRESH_BINARY_INV)[1]\n",
    "cv2.imshow(\"block image\",thresh1)\n",
    "cv2.waitKey(0)\n",
    "cv2.imshow(\"human image\",thresh2)#does not work\n",
    "cv2.waitKey(0)"
   ]
  },
  {
   "cell_type": "code",
   "execution_count": 76,
   "metadata": {},
   "outputs": [
    {
     "data": {
      "text/plain": [
       "-1"
      ]
     },
     "execution_count": 76,
     "metadata": {},
     "output_type": "execute_result"
    }
   ],
   "source": [
    "#thresholding on color image\n",
    "thresh1=cv2.threshold(image1,225,255,cv2.THRESH_BINARY_INV)[1]\n",
    "thresh2=cv2.threshold(image2,200,255,cv2.THRESH_BINARY_INV)[1]\n",
    "cv2.imshow(\"block image\",thresh1)\n",
    "cv2.waitKey(0)\n",
    "cv2.imshow(\"human image\",thresh2)#does not work\n",
    "cv2.waitKey(0)"
   ]
  },
  {
   "cell_type": "code",
   "execution_count": 83,
   "metadata": {},
   "outputs": [
    {
     "name": "stdout",
     "output_type": "stream",
     "text": [
      "6\n"
     ]
    }
   ],
   "source": [
    "#dectecting contours\n",
    "cnts=cv2.findContours(thresh1.copy(),cv2.RETR_EXTERNAL,\n",
    "                      cv2.CHAIN_APPROX_SIMPLE)\n",
    "cnts=imutils.grab_contours(cnts)\n",
    "output=image.copy()\n",
    "print(len(cnts))\n",
    "for c in cnts:\n",
    "    cv2.drawContours(output,[c],-1,(240,0,159),3)\n",
    "    cv2.imshow(\"contours\",output)\n",
    "    cv2.waitKey(0)"
   ]
  },
  {
   "cell_type": "code",
   "execution_count": 86,
   "metadata": {},
   "outputs": [
    {
     "data": {
      "text/plain": [
       "-1"
      ]
     },
     "execution_count": 86,
     "metadata": {},
     "output_type": "execute_result"
    }
   ],
   "source": [
    "#erosion of image\n",
    "mask=thresh1.copy()\n",
    "mask=cv2.erode(mask,None,iterations=5)\n",
    "cv2.imshow(\"erosion\", mask)\n",
    "cv2.waitKey(0)"
   ]
  },
  {
   "cell_type": "code",
   "execution_count": 87,
   "metadata": {},
   "outputs": [
    {
     "data": {
      "text/plain": [
       "-1"
      ]
     },
     "execution_count": 87,
     "metadata": {},
     "output_type": "execute_result"
    }
   ],
   "source": [
    "#dilation or enlarment of image\n",
    "mask=thresh1.copy()\n",
    "mask=cv2.dilate(mask,None,iterations=5)\n",
    "cv2.imshow(\"enlargement\", mask)\n",
    "cv2.waitKey(0)"
   ]
  },
  {
   "cell_type": "code",
   "execution_count": 88,
   "metadata": {},
   "outputs": [
    {
     "data": {
      "text/plain": [
       "-1"
      ]
     },
     "execution_count": 88,
     "metadata": {},
     "output_type": "execute_result"
    }
   ],
   "source": [
    "#mask out region of image which is not interesting\n",
    "mask=thresh1.copy()\n",
    "mask=cv2.bitwise_and(image1,image1,mask=mask)\n",
    "cv2.imshow(\"erosion\", mask)\n",
    "cv2.waitKey(0)"
   ]
  },
  {
   "cell_type": "code",
   "execution_count": null,
   "metadata": {},
   "outputs": [],
   "source": []
  }
 ],
 "metadata": {
  "kernelspec": {
   "display_name": "Python 3",
   "language": "python",
   "name": "python3"
  },
  "language_info": {
   "codemirror_mode": {
    "name": "ipython",
    "version": 3
   },
   "file_extension": ".py",
   "mimetype": "text/x-python",
   "name": "python",
   "nbconvert_exporter": "python",
   "pygments_lexer": "ipython3",
   "version": "3.7.3"
  }
 },
 "nbformat": 4,
 "nbformat_minor": 2
}
