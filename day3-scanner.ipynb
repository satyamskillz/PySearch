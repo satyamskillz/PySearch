{
 "cells": [
  {
   "cell_type": "code",
   "execution_count": 1,
   "metadata": {},
   "outputs": [],
   "source": [
    "import imutils\n",
    "import cv2"
   ]
  },
  {
   "cell_type": "code",
   "execution_count": 2,
   "metadata": {},
   "outputs": [
    {
     "data": {
      "text/plain": [
       "-1"
      ]
     },
     "execution_count": 2,
     "metadata": {},
     "output_type": "execute_result"
    }
   ],
   "source": [
    "image=cv2.imread(\"unwanted.jpg\")\n",
    "org=image.copy()\n",
    "ratio = image.shape[0] / 500.0\n",
    "cv2.imshow(\"orginal image\", image)\n",
    "image=imutils.resize(image,height=500)\n",
    "cv2.waitKey(0)"
   ]
  },
  {
   "cell_type": "code",
   "execution_count": 10,
   "metadata": {},
   "outputs": [
    {
     "data": {
      "text/plain": [
       "-1"
      ]
     },
     "execution_count": 10,
     "metadata": {},
     "output_type": "execute_result"
    }
   ],
   "source": [
    "gray=cv2.cvtColor(image,cv2.COLOR_BGR2GRAY)\n",
    "gray=cv2.GaussianBlur(gray,(11,11),0)\n",
    "egded=cv2.Canny(gray,75,200)\n",
    "cv2.imshow(\"Gray-image\",egded)\n",
    "cv2.waitKey(0)"
   ]
  },
  {
   "cell_type": "code",
   "execution_count": 11,
   "metadata": {
    "scrolled": true
   },
   "outputs": [
    {
     "name": "stdout",
     "output_type": "stream",
     "text": [
      "116.18376553058624 8\n",
      "92.7695517539978 8\n",
      "75.35533821582794 9\n",
      "72.4264063835144 9\n",
      "79.59797883033752 10\n"
     ]
    }
   ],
   "source": [
    "cnt=cv2.findContours(egded.copy(),cv2.RETR_LIST,\n",
    "                     cv2.CHAIN_APPROX_SIMPLE)\n",
    "cnt=imutils.grab_contours(cnt)\n",
    "# print(len(cnt))\n",
    "cnt=sorted(cnt,key=cv2.contourArea,reverse=True)[:5]\n",
    "for c in cnt:\n",
    "    peri=cv2.arcLength(c,True)\n",
    "    approx=cv2.approxPolyDP(c,0.02*peri,True)\n",
    "    print(peri,len(approx))\n",
    "    \n",
    "    if(len(approx)==4):\n",
    "        perimeterData=approx\n",
    "        break\n",
    "cv2.drawContours(image,[perimeterData],-1,(0,255,0),2)\n",
    "cv2.imshow(\"outline\",image)\n",
    "cv2.waitKey(0)\n",
    "cv2.destroyAllWindows()"
   ]
  },
  {
   "cell_type": "code",
   "execution_count": 12,
   "metadata": {},
   "outputs": [],
   "source": [
    "from transform import four_point_transform\n",
    "from skimage.filters import threshold_local"
   ]
  },
  {
   "cell_type": "code",
   "execution_count": 13,
   "metadata": {},
   "outputs": [
    {
     "data": {
      "text/plain": [
       "-1"
      ]
     },
     "execution_count": 13,
     "metadata": {},
     "output_type": "execute_result"
    }
   ],
   "source": [
    "warped=four_point_transform(org,perimeterData.reshape(4,2)*ratio)\n",
    "warped=cv2.cvtColor(warped,cv2.COLOR_BGR2GRAY)\n",
    "T = threshold_local(warped, 11, offset = 10, method = \"gaussian\")\n",
    "warped = (warped > T).astype(\"uint8\") * 255\n",
    "cv2.imshow(\"sds\", imutils.resize(warped, height = 650))\n",
    "cv2.waitKey(0)"
   ]
  },
  {
   "cell_type": "code",
   "execution_count": null,
   "metadata": {},
   "outputs": [],
   "source": []
  }
 ],
 "metadata": {
  "kernelspec": {
   "display_name": "Python 3",
   "language": "python",
   "name": "python3"
  },
  "language_info": {
   "codemirror_mode": {
    "name": "ipython",
    "version": 3
   },
   "file_extension": ".py",
   "mimetype": "text/x-python",
   "name": "python",
   "nbconvert_exporter": "python",
   "pygments_lexer": "ipython3",
   "version": "3.7.3"
  }
 },
 "nbformat": 4,
 "nbformat_minor": 2
}
