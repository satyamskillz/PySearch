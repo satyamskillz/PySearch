{
 "cells": [
  {
   "cell_type": "code",
   "execution_count": 1,
   "metadata": {},
   "outputs": [],
   "source": [
    "from imutils.perspective import four_point_transform\n",
    "from imutils import contours\n",
    "import numpy as np\n",
    "import imutils\n",
    "import cv2"
   ]
  },
  {
   "cell_type": "code",
   "execution_count": 2,
   "metadata": {},
   "outputs": [],
   "source": [
    "ANSWER_KEY = {0: 1, 1: 4, 2: 0, 3: 3, 4: 1}"
   ]
  },
  {
   "cell_type": "code",
   "execution_count": 3,
   "metadata": {},
   "outputs": [],
   "source": [
    "image=cv2.imread(\".//images//test_03.png\")\n",
    "# cv2.imshow(\"orignal image\",image)\n",
    "# cv2.waitKey(0)"
   ]
  },
  {
   "cell_type": "code",
   "execution_count": 4,
   "metadata": {},
   "outputs": [],
   "source": [
    "gray=cv2.cvtColor(image,cv2.COLOR_BGR2GRAY)\n",
    "blurred=cv2.GaussianBlur(gray,(5,5),0)\n",
    "edged=cv2.Canny(blurred,75,100)\n",
    "# cv2.imshow(\"orignal image\",edged)\n",
    "# cv2.waitKey(0)"
   ]
  },
  {
   "cell_type": "code",
   "execution_count": 5,
   "metadata": {},
   "outputs": [
    {
     "name": "stdout",
     "output_type": "stream",
     "text": [
      "1\n"
     ]
    }
   ],
   "source": [
    "cnts=cv2.findContours(edged.copy(),cv2.RETR_EXTERNAL,cv2.CHAIN_APPROX_SIMPLE)\n",
    "cnts=imutils.grab_contours(cnts)\n",
    "print(len(cnts))\n",
    "docCnt=None\n",
    "if (len(cnts)>0):\n",
    "    cnts=sorted(cnts,key=cv2.contourArea,reverse=True)\n",
    "    for c in cnts:\n",
    "        peri=cv2.arcLength(c,True)\n",
    "        approx=cv2.approxPolyDP(c,0.02*peri,True)\n",
    "        if(len(approx)==4):\n",
    "            docCnt=approx\n",
    "            break\n",
    "\n",
    "# cv2.drawContours(image,[docCnt],-1,(0,255,0),2)\n",
    "# cv2.imshow(\"image\",image)\n",
    "# cv2.waitKey(0)"
   ]
  },
  {
   "cell_type": "code",
   "execution_count": 6,
   "metadata": {},
   "outputs": [],
   "source": [
    "#bird eye view\n",
    "paper=four_point_transform(image,docCnt.reshape(4,2))\n",
    "wrapped=four_point_transform(gray,docCnt.reshape(4,2))\n",
    "# cv2.imshow(\"image\",paper)\n",
    "# cv2.waitKey(0)\n",
    "# cv2.imshow(\"image\",wrapped)\n",
    "# cv2.waitKey(0)"
   ]
  },
  {
   "cell_type": "code",
   "execution_count": 7,
   "metadata": {},
   "outputs": [],
   "source": [
    "#binarization of image\n",
    "thresh=cv2.threshold(wrapped,0,255,\n",
    "                     cv2.THRESH_BINARY_INV | cv2.THRESH_OTSU)[1]\n",
    "# cv2.imshow(\"image\",thresh)\n",
    "# cv2.waitKey(0)"
   ]
  },
  {
   "cell_type": "code",
   "execution_count": 8,
   "metadata": {},
   "outputs": [],
   "source": [
    "cnts=cv2.findContours(thresh.copy(),cv2.RETR_EXTERNAL,\n",
    "                     cv2.CHAIN_APPROX_SIMPLE)\n",
    "cnts=imutils.grab_contours(cnts)\n",
    "ques=[]\n",
    "for c in cnts:\n",
    "    (x,y,w,h)=cv2.boundingRect(c)\n",
    "    ar=w/float(h)\n",
    "    \n",
    "    if(w>=20 and h>=20 and ar>=0.9 and ar<=1.1):\n",
    "        ques.append(c)\n",
    "#         cv2.drawContours(paper,[c],-1,(0,255,0),2)\n",
    "#         cv2.imshow(\"image\",paper)\n",
    "#         cv2.waitKey(0)"
   ]
  },
  {
   "cell_type": "code",
   "execution_count": 9,
   "metadata": {},
   "outputs": [],
   "source": [
    "ques=contours.sort_contours(ques,method=\"top-to-bottom\")[0]\n",
    "correct=0"
   ]
  },
  {
   "cell_type": "code",
   "execution_count": 10,
   "metadata": {},
   "outputs": [],
   "source": [
    "for (q, i) in enumerate(np.arange(0, len(ques), 5)):\n",
    "    # sort the contours for the current question from\n",
    "    # left to right, then initialize the index of the\n",
    "    # bubbled answer\n",
    "    cnts = contours.sort_contours(ques[i:i + 5])[0]\n",
    "    bubbled = None\n",
    "\n",
    "    # loop over the sorted contours\n",
    "    for (j, c) in enumerate(cnts):\n",
    "        # construct a mask that reveals only the current\n",
    "        # \"bubble\" for the question\n",
    "        mask = np.zeros(thresh.shape, dtype=\"uint8\")\n",
    "        cv2.drawContours(mask, [c], -1, 255, -1)\n",
    "\n",
    "        # apply the mask to the thresholded image, then\n",
    "        # count the number of non-zero pixels in the\n",
    "        # bubble area\n",
    "        mask = cv2.bitwise_and(thresh, thresh, mask=mask)\n",
    "        total = cv2.countNonZero(mask)\n",
    "        \n",
    "#         cv2.imshow(\"image\",mask)\n",
    "#         cv2.waitKey(0)\n",
    "\n",
    "        # if the current total has a larger number of total\n",
    "        # non-zero pixels, then we are examining the currently\n",
    "        # bubbled-in answer\n",
    "        if bubbled is None or total > bubbled[0]:\n",
    "            bubbled = (total, j)\n",
    "\n",
    "    # initialize the contour color and the index of the\n",
    "    # *correct* answer\n",
    "    color = (0, 0, 255)\n",
    "    k = ANSWER_KEY[q]\n",
    "\n",
    "    # check to see if the bubbled answer is correct\n",
    "    if k == bubbled[1]:\n",
    "        color = (0, 255, 0)\n",
    "        correct += 1\n",
    "\n",
    "    # draw the outline of the correct answer on the test\n",
    "    cv2.drawContours(paper, [cnts[k]], -1, color, 3)"
   ]
  },
  {
   "cell_type": "code",
   "execution_count": 11,
   "metadata": {},
   "outputs": [
    {
     "name": "stdout",
     "output_type": "stream",
     "text": [
      "[INFO] score: 60.00%\n"
     ]
    },
    {
     "data": {
      "text/plain": [
       "-1"
      ]
     },
     "execution_count": 11,
     "metadata": {},
     "output_type": "execute_result"
    }
   ],
   "source": [
    "score = (correct / 5.0) * 100\n",
    "print(\"[INFO] score: {:.2f}%\".format(score))\n",
    "cv2.putText(paper, \"{:.2f}%\".format(score), (10, 30),\n",
    "\tcv2.FONT_HERSHEY_SIMPLEX, 0.9, (0, 0, 255), 2)\n",
    "cv2.imshow(\"Original\", image)\n",
    "cv2.imshow(\"Exam\", paper)\n",
    "cv2.waitKey(0)"
   ]
  },
  {
   "cell_type": "code",
   "execution_count": 12,
   "metadata": {},
   "outputs": [],
   "source": [
    "#sobel operator is good for edge detection"
   ]
  },
  {
   "cell_type": "code",
   "execution_count": null,
   "metadata": {},
   "outputs": [],
   "source": []
  }
 ],
 "metadata": {
  "kernelspec": {
   "display_name": "Python 3",
   "language": "python",
   "name": "python3"
  },
  "language_info": {
   "codemirror_mode": {
    "name": "ipython",
    "version": 3
   },
   "file_extension": ".py",
   "mimetype": "text/x-python",
   "name": "python",
   "nbconvert_exporter": "python",
   "pygments_lexer": "ipython3",
   "version": "3.7.3"
  }
 },
 "nbformat": 4,
 "nbformat_minor": 2
}
